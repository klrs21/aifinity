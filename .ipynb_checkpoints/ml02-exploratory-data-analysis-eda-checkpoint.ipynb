{
 "cells": [
  {
   "cell_type": "markdown",
   "metadata": {},
   "source": [
    "## <b><div style='padding:15px;background-color:#583E26;color:white;border-radius:2px;font-size:110%;text-align: left'>Introduction</div></b>"
   ]
  },
  {
   "cell_type": "markdown",
   "metadata": {},
   "source": [
    "**About:**\n",
    "This notebook contains preparation, data processing (of missing values), data exploration, and data visualization of the 'IBM HR Analytics Employee Attrition & Performance' dataset.\n",
    "\n",
    "**Background:**\n",
    "In the previously published notebook, I documented the process of how I decided to use the 'IBM HR Analytics Employee Attrition & Performance' dataset for my data science project. This notebook is titled as 'ML01 Data Selection' notebook and its link is found in the Appendix section of this notebook.\n",
    "\n",
    "Next, I am going to explore and understand the data in this notebook.\n",
    "\n",
    "**Goals:**\n",
    "\n",
    "- To load the data successfully \n",
    "- To conduct the exploratory data analysis (EDA) using the **Panda** library\n",
    "- To create data visualizations using the **Seaborn** library\n",
    "- To develop the next-step action plan\n",
    "\n",
    "**Objectives:**\n",
    "\n",
    "1. Preparation\n",
    ">- Set the environment\n",
    ">- Load the data successfully\n",
    ">- Conduct preliminary data analysis\n",
    "\n",
    "2. Data Processing (of Missing Values)\n",
    ">- Identify missing values\n",
    ">- (Address missing values) \n",
    "\n",
    "3. Data Exploration\n",
    ">- Explore data\n",
    ">- Identify **Ordinal** and **Nominal** variables\n",
    ">- Generate **Summary Statistics**\n",
    "\n",
    "4. Data Visualization\n",
    ">- Visualize distributions of data"
   ]
  },
  {
   "cell_type": "markdown",
   "metadata": {},
   "source": [
    "## <b><div style='padding:15px;background-color:#A78B71;color:white;border-radius:2px;font-size:110%;text-align: left'>1 | Preparation</div></b>"
   ]
  },
  {
   "cell_type": "markdown",
   "metadata": {},
   "source": [
    "### 1.1 Set environment"
   ]
  },
  {
   "cell_type": "code",
   "execution_count": 1,
   "metadata": {},
   "outputs": [
    {
     "name": "stdout",
     "output_type": "stream",
     "text": [
      "libraries are loaded\n"
     ]
    }
   ],
   "source": [
    "# import libraries\n",
    "\n",
    "# data processing\n",
    "import numpy as np # linear algebra\n",
    "import pandas as pd\n",
    "\n",
    "# data visualization\n",
    "import seaborn as sns\n",
    "import matplotlib.pyplot as plt\n",
    "# import plotly for data visualization\n",
    "\n",
    "print(\"libraries are loaded\")"
   ]
  },
  {
   "cell_type": "code",
   "execution_count": null,
   "metadata": {},
   "outputs": [],
   "source": [
    "# pip install -U seaborn"
   ]
  },
  {
   "cell_type": "code",
   "execution_count": 2,
   "metadata": {
    "execution": {
     "iopub.execute_input": "2023-03-07T18:33:23.293803Z",
     "iopub.status.busy": "2023-03-07T18:33:23.293294Z",
     "iopub.status.idle": "2023-03-07T18:33:23.300048Z",
     "shell.execute_reply": "2023-03-07T18:33:23.299165Z",
     "shell.execute_reply.started": "2023-03-07T18:33:23.293762Z"
    }
   },
   "outputs": [
    {
     "name": "stdout",
     "output_type": "stream",
     "text": [
      "environment is ready\n"
     ]
    }
   ],
   "source": [
    "# prepare environment\n",
    "\n",
    "# for seaborn\n",
    "sns.set_style('whitegrid')\n",
    "\n",
    "import warnings # mute warnings\n",
    "\n",
    "print(\"environment is ready\")"
   ]
  },
  {
   "cell_type": "code",
   "execution_count": null,
   "metadata": {
    "execution": {
     "iopub.execute_input": "2023-03-07T18:33:26.347029Z",
     "iopub.status.busy": "2023-03-07T18:33:26.346575Z",
     "iopub.status.idle": "2023-03-07T18:33:26.366976Z",
     "shell.execute_reply": "2023-03-07T18:33:26.365454Z",
     "shell.execute_reply.started": "2023-03-07T18:33:26.346987Z"
    }
   },
   "outputs": [],
   "source": [
    "import os\n",
    "for dirname, _, filenames in os.walk('/kaggle/input'):\n",
    "    \n",
    "    for filename in filenames:\n",
    "        print(os.path.join(dirname, filename))"
   ]
  },
  {
   "cell_type": "markdown",
   "metadata": {},
   "source": [
    "### 1.2 Load data"
   ]
  },
  {
   "cell_type": "code",
   "execution_count": 3,
   "metadata": {
    "execution": {
     "iopub.execute_input": "2023-03-07T18:33:30.749991Z",
     "iopub.status.busy": "2023-03-07T18:33:30.749565Z",
     "iopub.status.idle": "2023-03-07T18:33:30.78534Z",
     "shell.execute_reply": "2023-03-07T18:33:30.784308Z",
     "shell.execute_reply.started": "2023-03-07T18:33:30.74995Z"
    }
   },
   "outputs": [
    {
     "name": "stdout",
     "output_type": "stream",
     "text": [
      "data is loaded\n"
     ]
    }
   ],
   "source": [
    "# Read the data\n",
    "\n",
    "# IBM HR Analytics Employee Attrition & Performance Dataset\n",
    "df_train = pd.read_csv('data.csv') \n",
    "\n",
    "print(\"data is loaded\")"
   ]
  },
  {
   "cell_type": "markdown",
   "metadata": {},
   "source": [
    "### 1.3 Conduct preliminary analysis of data"
   ]
  },
  {
   "cell_type": "code",
   "execution_count": 4,
   "metadata": {
    "execution": {
     "iopub.execute_input": "2023-03-07T18:33:35.609357Z",
     "iopub.status.busy": "2023-03-07T18:33:35.608894Z",
     "iopub.status.idle": "2023-03-07T18:33:35.616384Z",
     "shell.execute_reply": "2023-03-07T18:33:35.61494Z",
     "shell.execute_reply.started": "2023-03-07T18:33:35.609294Z"
    }
   },
   "outputs": [
    {
     "name": "stdout",
     "output_type": "stream",
     "text": [
      "training dataset has 1470 rows and 35 columns\n"
     ]
    }
   ],
   "source": [
    "print('training dataset has {} rows and {} columns'.format(df_train.shape[0],df_train.shape[1]))"
   ]
  },
  {
   "cell_type": "code",
   "execution_count": 5,
   "metadata": {
    "execution": {
     "iopub.execute_input": "2023-03-07T18:33:38.065506Z",
     "iopub.status.busy": "2023-03-07T18:33:38.064467Z",
     "iopub.status.idle": "2023-03-07T18:33:38.096732Z",
     "shell.execute_reply": "2023-03-07T18:33:38.095406Z",
     "shell.execute_reply.started": "2023-03-07T18:33:38.065462Z"
    }
   },
   "outputs": [
    {
     "name": "stdout",
     "output_type": "stream",
     "text": [
      "<class 'pandas.core.frame.DataFrame'>\n",
      "RangeIndex: 1470 entries, 0 to 1469\n",
      "Data columns (total 35 columns):\n",
      " #   Column                    Non-Null Count  Dtype \n",
      "---  ------                    --------------  ----- \n",
      " 0   Age                       1470 non-null   int64 \n",
      " 1   Attrition                 1470 non-null   object\n",
      " 2   BusinessTravel            1470 non-null   object\n",
      " 3   DailyRate                 1470 non-null   int64 \n",
      " 4   Department                1470 non-null   object\n",
      " 5   DistanceFromHome          1470 non-null   int64 \n",
      " 6   Education                 1470 non-null   int64 \n",
      " 7   EducationField            1470 non-null   object\n",
      " 8   EmployeeCount             1470 non-null   int64 \n",
      " 9   EmployeeNumber            1470 non-null   int64 \n",
      " 10  EnvironmentSatisfaction   1470 non-null   int64 \n",
      " 11  Gender                    1470 non-null   object\n",
      " 12  HourlyRate                1470 non-null   int64 \n",
      " 13  JobInvolvement            1470 non-null   int64 \n",
      " 14  JobLevel                  1470 non-null   int64 \n",
      " 15  JobRole                   1470 non-null   object\n",
      " 16  JobSatisfaction           1470 non-null   int64 \n",
      " 17  MaritalStatus             1470 non-null   object\n",
      " 18  MonthlyIncome             1470 non-null   int64 \n",
      " 19  MonthlyRate               1470 non-null   int64 \n",
      " 20  NumCompaniesWorked        1470 non-null   int64 \n",
      " 21  Over18                    1470 non-null   object\n",
      " 22  OverTime                  1470 non-null   object\n",
      " 23  PercentSalaryHike         1470 non-null   int64 \n",
      " 24  PerformanceRating         1470 non-null   int64 \n",
      " 25  RelationshipSatisfaction  1470 non-null   int64 \n",
      " 26  StandardHours             1470 non-null   int64 \n",
      " 27  StockOptionLevel          1470 non-null   int64 \n",
      " 28  TotalWorkingYears         1470 non-null   int64 \n",
      " 29  TrainingTimesLastYear     1470 non-null   int64 \n",
      " 30  WorkLifeBalance           1470 non-null   int64 \n",
      " 31  YearsAtCompany            1470 non-null   int64 \n",
      " 32  YearsInCurrentRole        1470 non-null   int64 \n",
      " 33  YearsSinceLastPromotion   1470 non-null   int64 \n",
      " 34  YearsWithCurrManager      1470 non-null   int64 \n",
      "dtypes: int64(26), object(9)\n",
      "memory usage: 402.1+ KB\n"
     ]
    }
   ],
   "source": [
    "df_train.info()"
   ]
  },
  {
   "cell_type": "markdown",
   "metadata": {},
   "source": [
    "**comment:** on the \"IBM HR Analytics Employee Attrition & Performance\" Dataset\n",
    "\n",
    "- The dataset has 1470 rows and 35 columns\n",
    "- 35 columns comprise of 26 numerical variables and 9 categorical variables"
   ]
  },
  {
   "cell_type": "markdown",
   "metadata": {},
   "source": [
    "## <b><div style='padding:15px;background-color:#F7C815;color:white;border-radius:2px;font-size:110%;text-align: left'>2 | Missing Values</div></b>"
   ]
  },
  {
   "cell_type": "markdown",
   "metadata": {},
   "source": [
    "### 2.1 Identify missing values"
   ]
  },
  {
   "cell_type": "code",
   "execution_count": 6,
   "metadata": {
    "execution": {
     "iopub.execute_input": "2023-03-07T18:33:44.604146Z",
     "iopub.status.busy": "2023-03-07T18:33:44.603695Z",
     "iopub.status.idle": "2023-03-07T18:33:44.61375Z",
     "shell.execute_reply": "2023-03-07T18:33:44.61228Z",
     "shell.execute_reply.started": "2023-03-07T18:33:44.604105Z"
    }
   },
   "outputs": [
    {
     "name": "stdout",
     "output_type": "stream",
     "text": [
      "total number of missing values by attribute:\n",
      "Age                         0\n",
      "Attrition                   0\n",
      "BusinessTravel              0\n",
      "DailyRate                   0\n",
      "Department                  0\n",
      "DistanceFromHome            0\n",
      "Education                   0\n",
      "EducationField              0\n",
      "EmployeeCount               0\n",
      "EmployeeNumber              0\n",
      "EnvironmentSatisfaction     0\n",
      "Gender                      0\n",
      "HourlyRate                  0\n",
      "JobInvolvement              0\n",
      "JobLevel                    0\n",
      "JobRole                     0\n",
      "JobSatisfaction             0\n",
      "MaritalStatus               0\n",
      "MonthlyIncome               0\n",
      "MonthlyRate                 0\n",
      "NumCompaniesWorked          0\n",
      "Over18                      0\n",
      "OverTime                    0\n",
      "PercentSalaryHike           0\n",
      "PerformanceRating           0\n",
      "RelationshipSatisfaction    0\n",
      "StandardHours               0\n",
      "StockOptionLevel            0\n",
      "TotalWorkingYears           0\n",
      "TrainingTimesLastYear       0\n",
      "WorkLifeBalance             0\n",
      "YearsAtCompany              0\n",
      "YearsInCurrentRole          0\n",
      "YearsSinceLastPromotion     0\n",
      "YearsWithCurrManager        0\n",
      "dtype: int64\n"
     ]
    }
   ],
   "source": [
    "print(f\"total number of missing values by attribute:\\n{df_train.isnull().sum()}\")"
   ]
  },
  {
   "cell_type": "code",
   "execution_count": 7,
   "metadata": {
    "execution": {
     "iopub.execute_input": "2023-03-07T18:33:50.183445Z",
     "iopub.status.busy": "2023-03-07T18:33:50.183011Z",
     "iopub.status.idle": "2023-03-07T18:33:50.192651Z",
     "shell.execute_reply": "2023-03-07T18:33:50.191169Z",
     "shell.execute_reply.started": "2023-03-07T18:33:50.183389Z"
    }
   },
   "outputs": [
    {
     "name": "stdout",
     "output_type": "stream",
     "text": [
      "total number of missing values in the entire DataFrame: 0\n"
     ]
    }
   ],
   "source": [
    "print(f\"total number of missing values in the entire DataFrame: {df_train.isnull().sum().sum()}\")"
   ]
  },
  {
   "cell_type": "code",
   "execution_count": 8,
   "metadata": {
    "execution": {
     "iopub.execute_input": "2023-03-07T18:34:02.832907Z",
     "iopub.status.busy": "2023-03-07T18:34:02.832454Z",
     "iopub.status.idle": "2023-03-07T18:34:02.849747Z",
     "shell.execute_reply": "2023-03-07T18:34:02.848071Z",
     "shell.execute_reply.started": "2023-03-07T18:34:02.832868Z"
    }
   },
   "outputs": [
    {
     "name": "stdout",
     "output_type": "stream",
     "text": [
      "the names of columns with missing values:\n",
      "[]\n"
     ]
    }
   ],
   "source": [
    "# print names of columns with missing values\n",
    "\n",
    "# method 1:\n",
    "cols_with_missing = [col for col in df_train.columns\n",
    "                     if df_train[col].isnull().any()]\n",
    "\n",
    "print(f\"the names of columns with missing values:\\n{cols_with_missing}\")"
   ]
  },
  {
   "cell_type": "code",
   "execution_count": 9,
   "metadata": {
    "execution": {
     "iopub.execute_input": "2023-03-07T18:34:09.487978Z",
     "iopub.status.busy": "2023-03-07T18:34:09.486686Z",
     "iopub.status.idle": "2023-03-07T18:34:09.498849Z",
     "shell.execute_reply": "2023-03-07T18:34:09.497323Z",
     "shell.execute_reply.started": "2023-03-07T18:34:09.487925Z"
    }
   },
   "outputs": [
    {
     "name": "stdout",
     "output_type": "stream",
     "text": [
      "the names of columns with missing values:\n",
      "Series([], dtype: int64)\n"
     ]
    }
   ],
   "source": [
    "# print names of columns with missing values\n",
    "\n",
    "# method 2:\n",
    "missingVal_byCol = (df_train.isnull().sum())\n",
    "print(f\"the names of columns with missing values:\\n{missingVal_byCol[missingVal_byCol > 0]}\")"
   ]
  },
  {
   "cell_type": "markdown",
   "metadata": {},
   "source": [
    "**comment:** the data looks good. no further data processing is needed."
   ]
  },
  {
   "cell_type": "markdown",
   "metadata": {},
   "source": [
    "## <b><div style='padding:15px;background-color:#EC9704;color:white;border-radius:2px;font-size:110%;text-align: left'>3 | Data Exploration</div></b>"
   ]
  },
  {
   "cell_type": "markdown",
   "metadata": {},
   "source": [
    "### 3.1 Explore data"
   ]
  },
  {
   "cell_type": "code",
   "execution_count": 10,
   "metadata": {
    "execution": {
     "iopub.execute_input": "2023-03-07T18:34:29.275149Z",
     "iopub.status.busy": "2023-03-07T18:34:29.274454Z",
     "iopub.status.idle": "2023-03-07T18:34:29.296489Z",
     "shell.execute_reply": "2023-03-07T18:34:29.294925Z",
     "shell.execute_reply.started": "2023-03-07T18:34:29.275101Z"
    }
   },
   "outputs": [
    {
     "data": {
      "text/plain": [
       "Age                           43\n",
       "Attrition                      2\n",
       "BusinessTravel                 3\n",
       "DailyRate                    886\n",
       "Department                     3\n",
       "DistanceFromHome              29\n",
       "Education                      5\n",
       "EducationField                 6\n",
       "EmployeeCount                  1\n",
       "EmployeeNumber              1470\n",
       "EnvironmentSatisfaction        4\n",
       "Gender                         2\n",
       "HourlyRate                    71\n",
       "JobInvolvement                 4\n",
       "JobLevel                       5\n",
       "JobRole                        9\n",
       "JobSatisfaction                4\n",
       "MaritalStatus                  3\n",
       "MonthlyIncome               1349\n",
       "MonthlyRate                 1427\n",
       "NumCompaniesWorked            10\n",
       "Over18                         1\n",
       "OverTime                       2\n",
       "PercentSalaryHike             15\n",
       "PerformanceRating              2\n",
       "RelationshipSatisfaction       4\n",
       "StandardHours                  1\n",
       "StockOptionLevel               4\n",
       "TotalWorkingYears             40\n",
       "TrainingTimesLastYear          7\n",
       "WorkLifeBalance                4\n",
       "YearsAtCompany                37\n",
       "YearsInCurrentRole            19\n",
       "YearsSinceLastPromotion       16\n",
       "YearsWithCurrManager          18\n",
       "dtype: int64"
      ]
     },
     "execution_count": 10,
     "metadata": {},
     "output_type": "execute_result"
    }
   ],
   "source": [
    "df_train.nunique()"
   ]
  },
  {
   "cell_type": "markdown",
   "metadata": {},
   "source": [
    "<div class=\"alert alert-block alert-info\">\n",
    "    <b>💡</b><b>Key Observations:</b>\n",
    "  </div>"
   ]
  },
  {
   "cell_type": "markdown",
   "metadata": {},
   "source": [
    ">\n",
    "> The following columns are \"no use\" variables; they does not add values to the predictive model that I am going to build:\n",
    "> - EmployeeNumber (1470 unique values)\n",
    "> - EmployeeCount (only 1 unique value)\n",
    "> - Over18 (only 1 unique value)\n",
    "> - StandardHours (only 1 unique value)\n",
    "\n",
    "> **action:** drop these 4 columns"
   ]
  },
  {
   "cell_type": "code",
   "execution_count": 13,
   "metadata": {
    "execution": {
     "iopub.execute_input": "2023-03-07T18:34:33.84875Z",
     "iopub.status.busy": "2023-03-07T18:34:33.848316Z",
     "iopub.status.idle": "2023-03-07T18:34:33.886829Z",
     "shell.execute_reply": "2023-03-07T18:34:33.885367Z",
     "shell.execute_reply.started": "2023-03-07T18:34:33.848713Z"
    }
   },
   "outputs": [
    {
     "data": {
      "text/html": [
       "<div>\n",
       "<style scoped>\n",
       "    .dataframe tbody tr th:only-of-type {\n",
       "        vertical-align: middle;\n",
       "    }\n",
       "\n",
       "    .dataframe tbody tr th {\n",
       "        vertical-align: top;\n",
       "    }\n",
       "\n",
       "    .dataframe thead th {\n",
       "        text-align: right;\n",
       "    }\n",
       "</style>\n",
       "<table border=\"1\" class=\"dataframe\">\n",
       "  <thead>\n",
       "    <tr style=\"text-align: right;\">\n",
       "      <th></th>\n",
       "      <th>Age</th>\n",
       "      <th>DailyRate</th>\n",
       "      <th>DistanceFromHome</th>\n",
       "      <th>Education</th>\n",
       "      <th>EmployeeCount</th>\n",
       "      <th>EmployeeNumber</th>\n",
       "      <th>EnvironmentSatisfaction</th>\n",
       "      <th>HourlyRate</th>\n",
       "      <th>JobInvolvement</th>\n",
       "      <th>JobLevel</th>\n",
       "      <th>...</th>\n",
       "      <th>RelationshipSatisfaction</th>\n",
       "      <th>StandardHours</th>\n",
       "      <th>StockOptionLevel</th>\n",
       "      <th>TotalWorkingYears</th>\n",
       "      <th>TrainingTimesLastYear</th>\n",
       "      <th>WorkLifeBalance</th>\n",
       "      <th>YearsAtCompany</th>\n",
       "      <th>YearsInCurrentRole</th>\n",
       "      <th>YearsSinceLastPromotion</th>\n",
       "      <th>YearsWithCurrManager</th>\n",
       "    </tr>\n",
       "  </thead>\n",
       "  <tbody>\n",
       "    <tr>\n",
       "      <th>count</th>\n",
       "      <td>1470.000000</td>\n",
       "      <td>1470.000000</td>\n",
       "      <td>1470.000000</td>\n",
       "      <td>1470.000000</td>\n",
       "      <td>1470.0</td>\n",
       "      <td>1470.000000</td>\n",
       "      <td>1470.000000</td>\n",
       "      <td>1470.000000</td>\n",
       "      <td>1470.000000</td>\n",
       "      <td>1470.000000</td>\n",
       "      <td>...</td>\n",
       "      <td>1470.000000</td>\n",
       "      <td>1470.0</td>\n",
       "      <td>1470.000000</td>\n",
       "      <td>1470.000000</td>\n",
       "      <td>1470.000000</td>\n",
       "      <td>1470.000000</td>\n",
       "      <td>1470.000000</td>\n",
       "      <td>1470.000000</td>\n",
       "      <td>1470.000000</td>\n",
       "      <td>1470.000000</td>\n",
       "    </tr>\n",
       "    <tr>\n",
       "      <th>mean</th>\n",
       "      <td>36.923810</td>\n",
       "      <td>802.485714</td>\n",
       "      <td>9.192517</td>\n",
       "      <td>2.912925</td>\n",
       "      <td>1.0</td>\n",
       "      <td>1024.865306</td>\n",
       "      <td>2.721769</td>\n",
       "      <td>65.891156</td>\n",
       "      <td>2.729932</td>\n",
       "      <td>2.063946</td>\n",
       "      <td>...</td>\n",
       "      <td>2.712245</td>\n",
       "      <td>80.0</td>\n",
       "      <td>0.793878</td>\n",
       "      <td>11.279592</td>\n",
       "      <td>2.799320</td>\n",
       "      <td>2.761224</td>\n",
       "      <td>7.008163</td>\n",
       "      <td>4.229252</td>\n",
       "      <td>2.187755</td>\n",
       "      <td>4.123129</td>\n",
       "    </tr>\n",
       "    <tr>\n",
       "      <th>std</th>\n",
       "      <td>9.135373</td>\n",
       "      <td>403.509100</td>\n",
       "      <td>8.106864</td>\n",
       "      <td>1.024165</td>\n",
       "      <td>0.0</td>\n",
       "      <td>602.024335</td>\n",
       "      <td>1.093082</td>\n",
       "      <td>20.329428</td>\n",
       "      <td>0.711561</td>\n",
       "      <td>1.106940</td>\n",
       "      <td>...</td>\n",
       "      <td>1.081209</td>\n",
       "      <td>0.0</td>\n",
       "      <td>0.852077</td>\n",
       "      <td>7.780782</td>\n",
       "      <td>1.289271</td>\n",
       "      <td>0.706476</td>\n",
       "      <td>6.126525</td>\n",
       "      <td>3.623137</td>\n",
       "      <td>3.222430</td>\n",
       "      <td>3.568136</td>\n",
       "    </tr>\n",
       "    <tr>\n",
       "      <th>min</th>\n",
       "      <td>18.000000</td>\n",
       "      <td>102.000000</td>\n",
       "      <td>1.000000</td>\n",
       "      <td>1.000000</td>\n",
       "      <td>1.0</td>\n",
       "      <td>1.000000</td>\n",
       "      <td>1.000000</td>\n",
       "      <td>30.000000</td>\n",
       "      <td>1.000000</td>\n",
       "      <td>1.000000</td>\n",
       "      <td>...</td>\n",
       "      <td>1.000000</td>\n",
       "      <td>80.0</td>\n",
       "      <td>0.000000</td>\n",
       "      <td>0.000000</td>\n",
       "      <td>0.000000</td>\n",
       "      <td>1.000000</td>\n",
       "      <td>0.000000</td>\n",
       "      <td>0.000000</td>\n",
       "      <td>0.000000</td>\n",
       "      <td>0.000000</td>\n",
       "    </tr>\n",
       "    <tr>\n",
       "      <th>25%</th>\n",
       "      <td>30.000000</td>\n",
       "      <td>465.000000</td>\n",
       "      <td>2.000000</td>\n",
       "      <td>2.000000</td>\n",
       "      <td>1.0</td>\n",
       "      <td>491.250000</td>\n",
       "      <td>2.000000</td>\n",
       "      <td>48.000000</td>\n",
       "      <td>2.000000</td>\n",
       "      <td>1.000000</td>\n",
       "      <td>...</td>\n",
       "      <td>2.000000</td>\n",
       "      <td>80.0</td>\n",
       "      <td>0.000000</td>\n",
       "      <td>6.000000</td>\n",
       "      <td>2.000000</td>\n",
       "      <td>2.000000</td>\n",
       "      <td>3.000000</td>\n",
       "      <td>2.000000</td>\n",
       "      <td>0.000000</td>\n",
       "      <td>2.000000</td>\n",
       "    </tr>\n",
       "    <tr>\n",
       "      <th>50%</th>\n",
       "      <td>36.000000</td>\n",
       "      <td>802.000000</td>\n",
       "      <td>7.000000</td>\n",
       "      <td>3.000000</td>\n",
       "      <td>1.0</td>\n",
       "      <td>1020.500000</td>\n",
       "      <td>3.000000</td>\n",
       "      <td>66.000000</td>\n",
       "      <td>3.000000</td>\n",
       "      <td>2.000000</td>\n",
       "      <td>...</td>\n",
       "      <td>3.000000</td>\n",
       "      <td>80.0</td>\n",
       "      <td>1.000000</td>\n",
       "      <td>10.000000</td>\n",
       "      <td>3.000000</td>\n",
       "      <td>3.000000</td>\n",
       "      <td>5.000000</td>\n",
       "      <td>3.000000</td>\n",
       "      <td>1.000000</td>\n",
       "      <td>3.000000</td>\n",
       "    </tr>\n",
       "    <tr>\n",
       "      <th>75%</th>\n",
       "      <td>43.000000</td>\n",
       "      <td>1157.000000</td>\n",
       "      <td>14.000000</td>\n",
       "      <td>4.000000</td>\n",
       "      <td>1.0</td>\n",
       "      <td>1555.750000</td>\n",
       "      <td>4.000000</td>\n",
       "      <td>83.750000</td>\n",
       "      <td>3.000000</td>\n",
       "      <td>3.000000</td>\n",
       "      <td>...</td>\n",
       "      <td>4.000000</td>\n",
       "      <td>80.0</td>\n",
       "      <td>1.000000</td>\n",
       "      <td>15.000000</td>\n",
       "      <td>3.000000</td>\n",
       "      <td>3.000000</td>\n",
       "      <td>9.000000</td>\n",
       "      <td>7.000000</td>\n",
       "      <td>3.000000</td>\n",
       "      <td>7.000000</td>\n",
       "    </tr>\n",
       "    <tr>\n",
       "      <th>max</th>\n",
       "      <td>60.000000</td>\n",
       "      <td>1499.000000</td>\n",
       "      <td>29.000000</td>\n",
       "      <td>5.000000</td>\n",
       "      <td>1.0</td>\n",
       "      <td>2068.000000</td>\n",
       "      <td>4.000000</td>\n",
       "      <td>100.000000</td>\n",
       "      <td>4.000000</td>\n",
       "      <td>5.000000</td>\n",
       "      <td>...</td>\n",
       "      <td>4.000000</td>\n",
       "      <td>80.0</td>\n",
       "      <td>3.000000</td>\n",
       "      <td>40.000000</td>\n",
       "      <td>6.000000</td>\n",
       "      <td>4.000000</td>\n",
       "      <td>40.000000</td>\n",
       "      <td>18.000000</td>\n",
       "      <td>15.000000</td>\n",
       "      <td>17.000000</td>\n",
       "    </tr>\n",
       "  </tbody>\n",
       "</table>\n",
       "<p>8 rows × 26 columns</p>\n",
       "</div>"
      ],
      "text/plain": [
       "               Age    DailyRate  DistanceFromHome    Education  EmployeeCount  \\\n",
       "count  1470.000000  1470.000000       1470.000000  1470.000000         1470.0   \n",
       "mean     36.923810   802.485714          9.192517     2.912925            1.0   \n",
       "std       9.135373   403.509100          8.106864     1.024165            0.0   \n",
       "min      18.000000   102.000000          1.000000     1.000000            1.0   \n",
       "25%      30.000000   465.000000          2.000000     2.000000            1.0   \n",
       "50%      36.000000   802.000000          7.000000     3.000000            1.0   \n",
       "75%      43.000000  1157.000000         14.000000     4.000000            1.0   \n",
       "max      60.000000  1499.000000         29.000000     5.000000            1.0   \n",
       "\n",
       "       EmployeeNumber  EnvironmentSatisfaction   HourlyRate  JobInvolvement  \\\n",
       "count     1470.000000              1470.000000  1470.000000     1470.000000   \n",
       "mean      1024.865306                 2.721769    65.891156        2.729932   \n",
       "std        602.024335                 1.093082    20.329428        0.711561   \n",
       "min          1.000000                 1.000000    30.000000        1.000000   \n",
       "25%        491.250000                 2.000000    48.000000        2.000000   \n",
       "50%       1020.500000                 3.000000    66.000000        3.000000   \n",
       "75%       1555.750000                 4.000000    83.750000        3.000000   \n",
       "max       2068.000000                 4.000000   100.000000        4.000000   \n",
       "\n",
       "          JobLevel  ...  RelationshipSatisfaction  StandardHours  \\\n",
       "count  1470.000000  ...               1470.000000         1470.0   \n",
       "mean      2.063946  ...                  2.712245           80.0   \n",
       "std       1.106940  ...                  1.081209            0.0   \n",
       "min       1.000000  ...                  1.000000           80.0   \n",
       "25%       1.000000  ...                  2.000000           80.0   \n",
       "50%       2.000000  ...                  3.000000           80.0   \n",
       "75%       3.000000  ...                  4.000000           80.0   \n",
       "max       5.000000  ...                  4.000000           80.0   \n",
       "\n",
       "       StockOptionLevel  TotalWorkingYears  TrainingTimesLastYear  \\\n",
       "count       1470.000000        1470.000000            1470.000000   \n",
       "mean           0.793878          11.279592               2.799320   \n",
       "std            0.852077           7.780782               1.289271   \n",
       "min            0.000000           0.000000               0.000000   \n",
       "25%            0.000000           6.000000               2.000000   \n",
       "50%            1.000000          10.000000               3.000000   \n",
       "75%            1.000000          15.000000               3.000000   \n",
       "max            3.000000          40.000000               6.000000   \n",
       "\n",
       "       WorkLifeBalance  YearsAtCompany  YearsInCurrentRole  \\\n",
       "count      1470.000000     1470.000000         1470.000000   \n",
       "mean          2.761224        7.008163            4.229252   \n",
       "std           0.706476        6.126525            3.623137   \n",
       "min           1.000000        0.000000            0.000000   \n",
       "25%           2.000000        3.000000            2.000000   \n",
       "50%           3.000000        5.000000            3.000000   \n",
       "75%           3.000000        9.000000            7.000000   \n",
       "max           4.000000       40.000000           18.000000   \n",
       "\n",
       "       YearsSinceLastPromotion  YearsWithCurrManager  \n",
       "count              1470.000000           1470.000000  \n",
       "mean                  2.187755              4.123129  \n",
       "std                   3.222430              3.568136  \n",
       "min                   0.000000              0.000000  \n",
       "25%                   0.000000              2.000000  \n",
       "50%                   1.000000              3.000000  \n",
       "75%                   3.000000              7.000000  \n",
       "max                  15.000000             17.000000  \n",
       "\n",
       "[8 rows x 26 columns]"
      ]
     },
     "execution_count": 13,
     "metadata": {},
     "output_type": "execute_result"
    }
   ],
   "source": [
    "df_train.describe()"
   ]
  },
  {
   "cell_type": "code",
   "execution_count": null,
   "metadata": {
    "execution": {
     "iopub.execute_input": "2023-03-07T18:34:40.548577Z",
     "iopub.status.busy": "2023-03-07T18:34:40.547824Z",
     "iopub.status.idle": "2023-03-07T18:34:40.803952Z",
     "shell.execute_reply": "2023-03-07T18:34:40.802972Z",
     "shell.execute_reply.started": "2023-03-07T18:34:40.548518Z"
    }
   },
   "outputs": [],
   "source": [
    "# include all columns\n",
    "df_train.describe(include='all')\n",
    "\n",
    "# include only the number columns\n",
    "df_train.describe(include='number')\n",
    "df_train.describe(include='int64')\n",
    "\n",
    "# include only the categorical columns\n",
    "df_train.describe(exclude='number')\n",
    "df_train.describe(include='object')"
   ]
  },
  {
   "cell_type": "code",
   "execution_count": null,
   "metadata": {
    "execution": {
     "iopub.execute_input": "2023-03-07T18:34:47.728439Z",
     "iopub.status.busy": "2023-03-07T18:34:47.727365Z",
     "iopub.status.idle": "2023-03-07T18:34:47.735397Z",
     "shell.execute_reply": "2023-03-07T18:34:47.734051Z",
     "shell.execute_reply.started": "2023-03-07T18:34:47.728394Z"
    }
   },
   "outputs": [],
   "source": [
    "# identify categorical columns in the training data\n",
    "\n",
    "# method 1:\n",
    "categorical_cols = [col for col in df_train.columns if df_train[col].dtype == \"object\"]\n",
    "print(\"names of categorical columns: \", categorical_cols)"
   ]
  },
  {
   "cell_type": "code",
   "execution_count": null,
   "metadata": {
    "execution": {
     "iopub.execute_input": "2023-03-07T18:35:01.020611Z",
     "iopub.status.busy": "2023-03-07T18:35:01.020165Z",
     "iopub.status.idle": "2023-03-07T18:35:01.037856Z",
     "shell.execute_reply": "2023-03-07T18:35:01.036631Z",
     "shell.execute_reply.started": "2023-03-07T18:35:01.020562Z"
    }
   },
   "outputs": [],
   "source": [
    "# print cardinarity of identified categorical columns in a different way\n",
    "\n",
    "# method 2:\n",
    "df_train[categorical_cols].nunique()"
   ]
  },
  {
   "cell_type": "markdown",
   "metadata": {},
   "source": [
    "### 3.2 Identify **ordinal** and **nominal** variables"
   ]
  },
  {
   "cell_type": "code",
   "execution_count": null,
   "metadata": {
    "execution": {
     "iopub.execute_input": "2023-03-07T01:04:28.775141Z",
     "iopub.status.busy": "2023-03-07T01:04:28.774662Z",
     "iopub.status.idle": "2023-03-07T01:04:28.782717Z",
     "shell.execute_reply": "2023-03-07T01:04:28.781309Z",
     "shell.execute_reply.started": "2023-03-07T01:04:28.775104Z"
    }
   },
   "outputs": [],
   "source": [
    "#1. 'Attrition'\n",
    "print(\"unique values for 'Attrition':\", df_train['Attrition'].unique())"
   ]
  },
  {
   "cell_type": "code",
   "execution_count": null,
   "metadata": {
    "execution": {
     "iopub.execute_input": "2023-03-07T01:04:32.365809Z",
     "iopub.status.busy": "2023-03-07T01:04:32.364777Z",
     "iopub.status.idle": "2023-03-07T01:04:32.375558Z",
     "shell.execute_reply": "2023-03-07T01:04:32.374147Z",
     "shell.execute_reply.started": "2023-03-07T01:04:32.365746Z"
    }
   },
   "outputs": [],
   "source": [
    "#2. 'BusinessTravel'\n",
    "print(\"unique values for 'BusinessTravel':\", df_train['BusinessTravel'].unique())"
   ]
  },
  {
   "cell_type": "code",
   "execution_count": null,
   "metadata": {
    "execution": {
     "iopub.execute_input": "2023-03-07T01:04:46.077864Z",
     "iopub.status.busy": "2023-03-07T01:04:46.077454Z",
     "iopub.status.idle": "2023-03-07T01:04:46.085156Z",
     "shell.execute_reply": "2023-03-07T01:04:46.083884Z",
     "shell.execute_reply.started": "2023-03-07T01:04:46.077828Z"
    }
   },
   "outputs": [],
   "source": [
    "#3. 'Department'\n",
    "print(\"unique values for 'Department':\", df_train['Department'].unique())"
   ]
  },
  {
   "cell_type": "code",
   "execution_count": null,
   "metadata": {
    "execution": {
     "iopub.execute_input": "2023-03-07T01:04:52.496643Z",
     "iopub.status.busy": "2023-03-07T01:04:52.496233Z",
     "iopub.status.idle": "2023-03-07T01:04:52.504148Z",
     "shell.execute_reply": "2023-03-07T01:04:52.502733Z",
     "shell.execute_reply.started": "2023-03-07T01:04:52.496607Z"
    }
   },
   "outputs": [],
   "source": [
    "#4. 'EducationField'\n",
    "print(\"unique values for 'EducationField':\", df_train['EducationField'].unique())"
   ]
  },
  {
   "cell_type": "code",
   "execution_count": null,
   "metadata": {
    "execution": {
     "iopub.execute_input": "2023-03-07T01:05:12.723539Z",
     "iopub.status.busy": "2023-03-07T01:05:12.722938Z",
     "iopub.status.idle": "2023-03-07T01:05:12.732153Z",
     "shell.execute_reply": "2023-03-07T01:05:12.730846Z",
     "shell.execute_reply.started": "2023-03-07T01:05:12.723487Z"
    }
   },
   "outputs": [],
   "source": [
    "#5. 'Gender'\n",
    "print(\"unique values for 'Gender':\", df_train['Gender'].unique())"
   ]
  },
  {
   "cell_type": "code",
   "execution_count": null,
   "metadata": {
    "execution": {
     "iopub.execute_input": "2023-03-07T01:05:15.794169Z",
     "iopub.status.busy": "2023-03-07T01:05:15.793362Z",
     "iopub.status.idle": "2023-03-07T01:05:15.801264Z",
     "shell.execute_reply": "2023-03-07T01:05:15.800328Z",
     "shell.execute_reply.started": "2023-03-07T01:05:15.794114Z"
    }
   },
   "outputs": [],
   "source": [
    "#6. 'JobRole'\n",
    "print(\"unique values for 'JobRole':\", df_train['JobRole'].unique())"
   ]
  },
  {
   "cell_type": "code",
   "execution_count": null,
   "metadata": {
    "execution": {
     "iopub.execute_input": "2023-03-07T01:05:27.563864Z",
     "iopub.status.busy": "2023-03-07T01:05:27.563433Z",
     "iopub.status.idle": "2023-03-07T01:05:27.571984Z",
     "shell.execute_reply": "2023-03-07T01:05:27.57048Z",
     "shell.execute_reply.started": "2023-03-07T01:05:27.563829Z"
    }
   },
   "outputs": [],
   "source": [
    "#7. 'MaritalStatus'\n",
    "print(\"unique values for 'MaritalStatus':\", df_train['MaritalStatus'].unique())"
   ]
  },
  {
   "cell_type": "code",
   "execution_count": null,
   "metadata": {
    "execution": {
     "iopub.execute_input": "2023-03-07T01:05:32.35885Z",
     "iopub.status.busy": "2023-03-07T01:05:32.358427Z",
     "iopub.status.idle": "2023-03-07T01:05:32.365471Z",
     "shell.execute_reply": "2023-03-07T01:05:32.364346Z",
     "shell.execute_reply.started": "2023-03-07T01:05:32.358806Z"
    }
   },
   "outputs": [],
   "source": [
    "#8. 'OverTime'\n",
    "print(\"unique values for 'OverTime':\", df_train['OverTime'].unique())"
   ]
  },
  {
   "cell_type": "markdown",
   "metadata": {},
   "source": [
    "<div class=\"alert alert-block alert-info\">\n",
    "    <b>💡</b><b>Key Observations:</b>\n",
    "  </div>"
   ]
  },
  {
   "cell_type": "markdown",
   "metadata": {},
   "source": [
    "> Identified the needs for **Categorical Encoding**:\n",
    "> - Attrition (2 values) needs **binary encoding** to encode categorical values ('Yes'/'No') to numerical values\n",
    "> - BusinessTravel (3 values) is an **ordinal variable** and needs **ordinal encoding**\n",
    "> - Department (3 values) is a **nominal varialbe** and needs **one-hot encoding**\n",
    "> - EducationField (6 values): is a **nominal variable** and needs other **categorical encoding**\n",
    "> - Gender (2 values): needs **binary encoding**\n",
    "> - JobRole (9 values): is a **nominal variable** and needs other **categorical encoding**\n",
    "> - MaritalStatus (3 values) is a **nominal variable** and needs **one-hot encoding**\n",
    "> - OverTime (2 values): needs **binary encoding**"
   ]
  },
  {
   "cell_type": "markdown",
   "metadata": {},
   "source": [
    "<div class=\"alert alert-block alert-info\">\n",
    "    <b>💡</b><b>Key Points:</b>\n",
    "</div>"
   ]
  },
  {
   "cell_type": "markdown",
   "metadata": {},
   "source": [
    "> - **Ordinal** variables: categorical variables with a clear ordering in the values\n",
    "> - **Nominal** variables: categorical variables without an ordering in the values\n",
    "> \n",
    "> Reference: https://www.kaggle.com/code/alexisbcook/categorical-variables"
   ]
  },
  {
   "cell_type": "markdown",
   "metadata": {},
   "source": [
    "### 3.3 Generate **Summary Statistics**"
   ]
  },
  {
   "cell_type": "code",
   "execution_count": null,
   "metadata": {
    "execution": {
     "iopub.execute_input": "2023-03-07T00:26:13.591458Z",
     "iopub.status.busy": "2023-03-07T00:26:13.591008Z",
     "iopub.status.idle": "2023-03-07T00:26:13.679748Z",
     "shell.execute_reply": "2023-03-07T00:26:13.67829Z",
     "shell.execute_reply.started": "2023-03-07T00:26:13.591417Z"
    }
   },
   "outputs": [],
   "source": [
    "# generate summary statistics\n",
    "df_train.describe()"
   ]
  },
  {
   "cell_type": "markdown",
   "metadata": {},
   "source": [
    "## <b><div style='padding:15px;background-color:#9C4A1A;color:white;border-radius:2px;font-size:110%;text-align: left'>4 | Data Visualization</div></b>"
   ]
  },
  {
   "cell_type": "code",
   "execution_count": null,
   "metadata": {
    "execution": {
     "iopub.execute_input": "2023-03-07T00:26:19.028515Z",
     "iopub.status.busy": "2023-03-07T00:26:19.027311Z",
     "iopub.status.idle": "2023-03-07T00:26:19.036033Z",
     "shell.execute_reply": "2023-03-07T00:26:19.034505Z",
     "shell.execute_reply.started": "2023-03-07T00:26:19.028467Z"
    }
   },
   "outputs": [],
   "source": [
    "# Mute warnings\n",
    "warnings.filterwarnings('ignore')\n",
    "\n",
    "print(\"warnings are muted\")"
   ]
  },
  {
   "cell_type": "markdown",
   "metadata": {},
   "source": [
    "### 4.1 Histograms"
   ]
  },
  {
   "cell_type": "code",
   "execution_count": null,
   "metadata": {
    "execution": {
     "iopub.execute_input": "2023-03-07T00:26:25.36928Z",
     "iopub.status.busy": "2023-03-07T00:26:25.368842Z",
     "iopub.status.idle": "2023-03-07T00:26:36.051673Z",
     "shell.execute_reply": "2023-03-07T00:26:36.050484Z",
     "shell.execute_reply.started": "2023-03-07T00:26:25.369214Z"
    }
   },
   "outputs": [],
   "source": [
    "# histograms | copied a block of codes produced by @phongnguyen1\n",
    "\n",
    "ncols = 2\n",
    "nrows = np.ceil(len(df_train.columns)/ncols).astype(int)\n",
    "fig, axs = plt.subplots(ncols=ncols, nrows=nrows, figsize=(12,nrows*2.5))\n",
    "for c, ax in zip(df_train.columns, axs.flatten()):\n",
    "    sns.histplot(df_train, x=c, ax=ax)\n",
    "fig.suptitle('Distribution of data', fontsize=20)\n",
    "plt.tight_layout(rect=[0, 0, 1, 0.98])\n",
    "\n",
    "# source: https://www.kaggle.com/code/phongnguyen1/s3e3-from-eda-to-final-submission/notebook"
   ]
  },
  {
   "cell_type": "markdown",
   "metadata": {},
   "source": [
    "**observation:**\n",
    "\n",
    "Above data visualizations confirm what I previously stated about the following \"no use\" columns:\n",
    "- EmployeeNumber (1470 unique values)\n",
    "- EmployeeCount (only 1 unique value)\n",
    "- Over18 (only 1 unique value)\n",
    "- StandardHours (only 1 unique value)"
   ]
  },
  {
   "cell_type": "code",
   "execution_count": null,
   "metadata": {
    "execution": {
     "iopub.execute_input": "2023-03-07T00:36:30.028328Z",
     "iopub.status.busy": "2023-03-07T00:36:30.02779Z",
     "iopub.status.idle": "2023-03-07T00:36:30.06316Z",
     "shell.execute_reply": "2023-03-07T00:36:30.061646Z",
     "shell.execute_reply.started": "2023-03-07T00:36:30.028267Z"
    }
   },
   "outputs": [],
   "source": [
    "df_train"
   ]
  },
  {
   "cell_type": "markdown",
   "metadata": {},
   "source": [
    "## <b><div style='padding:15px;background-color:#583E26;color:white;border-radius:2px;font-size:110%;text-align: left'>Conclusion</div></b>"
   ]
  },
  {
   "cell_type": "markdown",
   "metadata": {},
   "source": [
    "The following actions will be addressed in the next notebook, \"**ML_03 Data Preparation**\""
   ]
  },
  {
   "cell_type": "markdown",
   "metadata": {},
   "source": [
    "**#1**<br>\n",
    "**Key Observation:** Identified \"no use\" variables; these are variables that add no value to machine learning models.<br>\n",
    "**Action:** Drop \"no use\" variables<br>\n",
    "- EmployeeNumber (1470 unique numerical values)\n",
    "- EmployeeCount (only 1 unique numerical value)\n",
    "- Over18 (only 1 unique categorical value)\n",
    "- StandardHours (only 1 unique numerical value)"
   ]
  },
  {
   "cell_type": "markdown",
   "metadata": {},
   "source": [
    "**#2**<br>\n",
    "**Key Observation:** Identified categorical variables that need one of following encodings: binary encoding, ordinal encoding, one-hot encoding or other categorical encoding.<br>\n",
    "**Action:** Encode categorical variables to numerical values<br>\n",
    "\n",
    "1. Binary encoding\n",
    "> - Attrition (2 values) needs **binary encoding** to encode categorical values ('Yes'/'No') to numerical values\n",
    "> - Gender (2 values): needs **binary encoding**\n",
    "> - OverTime (2 values): needs **binary encoding**\n",
    "\n",
    "2. Ordinal encoding\n",
    "> - BusinessTravel (3 values) is an **ordinal variable** and needs **ordinal encoding**\n",
    "\n",
    "3. One-hot encoding\n",
    "> - Department (3 values) is a **nominal varialbe** and needs **one-hot encoding**\n",
    "> - MaritalStatus (3 values) is a **nominal variable** and needs other **one-hot encoding**\n",
    "\n",
    "4. Other categorical encoding\n",
    "> - EducationField (6 values): is a **nominal variable** and needs other **categorical encoding**\n",
    "> - JobRole (9 values): is a **nominal variable** and needs other **categorical encoding**"
   ]
  },
  {
   "cell_type": "code",
   "execution_count": null,
   "metadata": {
    "execution": {
     "iopub.execute_input": "2023-03-07T01:17:31.100457Z",
     "iopub.status.busy": "2023-03-07T01:17:31.099566Z",
     "iopub.status.idle": "2023-03-07T01:17:31.12144Z",
     "shell.execute_reply": "2023-03-07T01:17:31.120428Z",
     "shell.execute_reply.started": "2023-03-07T01:17:31.100411Z"
    }
   },
   "outputs": [],
   "source": [
    "df_train.select_dtypes('object')"
   ]
  },
  {
   "cell_type": "markdown",
   "metadata": {},
   "source": [
    "## <b><div style='padding:15px;background-color:#583E26;color:white;border-radius:2px;font-size:110%;text-align: left'>Next Step</div></b>"
   ]
  },
  {
   "cell_type": "markdown",
   "metadata": {},
   "source": [
    "- **Data Preparation** by addressing two actions identified above. This step is critical for building robust machine learning models.  "
   ]
  },
  {
   "cell_type": "markdown",
   "metadata": {},
   "source": [
    "## <b><div style='padding:15px;background-color:#A78B71;color:white;border-radius:2px;font-size:110%;text-align: left'>Appendix</div></b>"
   ]
  },
  {
   "cell_type": "markdown",
   "metadata": {},
   "source": [
    "**Employee Attrition Series:**\n",
    "<br>\n",
    "> ML01 Data Selection - https://www.kaggle.com/code/juliasuzuki/ml-01-data-selection?scriptVersionId=121284925"
   ]
  }
 ],
 "metadata": {
  "kernelspec": {
   "display_name": "Python 3 (ipykernel)",
   "language": "python",
   "name": "python3"
  },
  "language_info": {
   "codemirror_mode": {
    "name": "ipython",
    "version": 3
   },
   "file_extension": ".py",
   "mimetype": "text/x-python",
   "name": "python",
   "nbconvert_exporter": "python",
   "pygments_lexer": "ipython3",
   "version": "3.9.13"
  }
 },
 "nbformat": 4,
 "nbformat_minor": 4
}
